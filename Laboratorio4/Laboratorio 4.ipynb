{
 "cells": [
  {
   "cell_type": "markdown",
   "metadata": {},
   "source": [
    "# SIMULACIÓN | LABORATORIO 4\n"
   ]
  },
  {
   "cell_type": "markdown",
   "metadata": {},
   "source": [
    "## Generación de número pseudo-aleatorios"
   ]
  },
  {
   "cell_type": "code",
   "execution_count": 5,
   "metadata": {},
   "outputs": [],
   "source": [
    "import numpy as np\n",
    "import matplotlib.pyplot as plt\n",
    "import pandas as pd\n",
    "import seaborn as sns\n",
    "import scipy \n",
    "from IPython.display import display\n",
    "import ipywidgets as widgets\n",
    "import random\n",
    "from scipy import stats"
   ]
  },
  {
   "cell_type": "markdown",
   "metadata": {},
   "source": [
    "### El módulo Random de python \n"
   ]
  },
  {
   "cell_type": "markdown",
   "metadata": {},
   "source": [
    "**Ejercicio 1:**\n",
    "- Defina lo que es una semilla y para qué sirve\n",
    "- use random.random() para generar números aleatorios. \n",
    "- use una semilla con random.seed(semilla), y vuelva a ejecutar random.random()\n",
    "- ¿qué ocurre si vuelve a definir la misma semilla y ejecutar random.random()?\n",
    "\n"
   ]
  },
  {
   "cell_type": "markdown",
   "metadata": {},
   "source": [
    "### Respuesta"
   ]
  },
  {
   "cell_type": "markdown",
   "metadata": {},
   "source": [
    "#### 1.1)"
   ]
  },
  {
   "cell_type": "markdown",
   "metadata": {},
   "source": [
    "Una semilla es un número o vector que se utiliza para inicializar un generador de números pseudoaleatorios. Si se usa la misma semilla, siempre se generará la misma secuencia de números."
   ]
  },
  {
   "cell_type": "markdown",
   "metadata": {},
   "source": [
    "#### 1.2)"
   ]
  },
  {
   "cell_type": "code",
   "execution_count": 48,
   "metadata": {},
   "outputs": [
    {
     "name": "stdout",
     "output_type": "stream",
     "text": [
      "a =  0.7403825290670738\n",
      "b =  0.9303705530587089\n",
      "c =  0.443010471292977\n"
     ]
    }
   ],
   "source": [
    "a = random.random()\n",
    "print(\"a = \",a)\n",
    "b = random.random()\n",
    "print(\"b = \",b)\n",
    "c = random.random()\n",
    "print(\"c = \",c)"
   ]
  },
  {
   "cell_type": "markdown",
   "metadata": {},
   "source": [
    "#### 1.3)"
   ]
  },
  {
   "cell_type": "code",
   "execution_count": 45,
   "metadata": {},
   "outputs": [
    {
     "name": "stdout",
     "output_type": "stream",
     "text": [
      "a =  0.823807241964088\n",
      "b =  0.895209158949168\n",
      "c =  0.18786841055338477\n"
     ]
    }
   ],
   "source": [
    "semilla = 150\n",
    "random.seed(semilla)\n",
    "a = random.random()\n",
    "print(\"a = \",a)\n",
    "b = random.random()\n",
    "print(\"b = \",b)\n",
    "c = random.random()\n",
    "print(\"c = \",c)"
   ]
  },
  {
   "cell_type": "markdown",
   "metadata": {},
   "source": [
    "#### 1.4)"
   ]
  },
  {
   "cell_type": "code",
   "execution_count": 50,
   "metadata": {},
   "outputs": [
    {
     "name": "stdout",
     "output_type": "stream",
     "text": [
      "a =  0.823807241964088\n",
      "b =  0.895209158949168\n",
      "c =  0.18786841055338477\n"
     ]
    }
   ],
   "source": [
    "semilla = 150\n",
    "random.seed(semilla)\n",
    "a = random.random()\n",
    "print(\"a = \",a)\n",
    "b = random.random()\n",
    "print(\"b = \",b)\n",
    "c = random.random()\n",
    "print(\"c = \",c)"
   ]
  },
  {
   "cell_type": "code",
   "execution_count": 51,
   "metadata": {},
   "outputs": [
    {
     "name": "stdout",
     "output_type": "stream",
     "text": [
      "a =  0.823807241964088\n",
      "b =  0.895209158949168\n",
      "c =  0.18786841055338477\n"
     ]
    }
   ],
   "source": [
    "random.seed(semilla)\n",
    "a = random.random()\n",
    "print(\"a = \",a)\n",
    "b = random.random()\n",
    "print(\"b = \",b)\n",
    "c = random.random()\n",
    "print(\"c = \",c)"
   ]
  },
  {
   "cell_type": "markdown",
   "metadata": {},
   "source": [
    "Se observa que al redefinir la semilla, se repite la secuencia de números generados. Esto se debe a que se reinicializa el generador, por lo que la secuencia de números se vuelve a generar desde el principio."
   ]
  },
  {
   "cell_type": "markdown",
   "metadata": {},
   "source": [
    "**Ejercicio 2:**\n",
    "Pruebe las funciones y defina sus diferencias:\n",
    "\n",
    "    - random.randint(a, b)\n",
    "    - random.randrange(a, b)\n",
    "    - random.uniform(a, b)\n",
    "    "
   ]
  },
  {
   "cell_type": "markdown",
   "metadata": {},
   "source": [
    "### Respuesta"
   ]
  },
  {
   "cell_type": "code",
   "execution_count": 23,
   "metadata": {},
   "outputs": [],
   "source": [
    "a = 10\n",
    "b = 15"
   ]
  },
  {
   "cell_type": "code",
   "execution_count": 26,
   "metadata": {},
   "outputs": [
    {
     "data": {
      "text/plain": [
       "15"
      ]
     },
     "execution_count": 26,
     "metadata": {},
     "output_type": "execute_result"
    }
   ],
   "source": [
    "random.randint(a,b)"
   ]
  },
  {
   "cell_type": "markdown",
   "metadata": {},
   "source": [
    "La función random.randint(a,b) retorna un número entero aleatorio N en el rango (a,b), tal que a <= N <= b."
   ]
  },
  {
   "cell_type": "code",
   "execution_count": 27,
   "metadata": {},
   "outputs": [
    {
     "data": {
      "text/plain": [
       "12"
      ]
     },
     "execution_count": 27,
     "metadata": {},
     "output_type": "execute_result"
    }
   ],
   "source": [
    "random.randrange(a,b)"
   ]
  },
  {
   "cell_type": "markdown",
   "metadata": {},
   "source": [
    "La función random.randrange(a,b) retorna un número entero aleatorio N en el rango (a,b), pero a diferencia de randint(), no se incluye el límite superior b, es decir, a <= N < b."
   ]
  },
  {
   "cell_type": "code",
   "execution_count": 28,
   "metadata": {},
   "outputs": [
    {
     "data": {
      "text/plain": [
       "11.664892184781301"
      ]
     },
     "execution_count": 28,
     "metadata": {},
     "output_type": "execute_result"
    }
   ],
   "source": [
    "random.uniform(a,b)"
   ]
  },
  {
   "cell_type": "markdown",
   "metadata": {},
   "source": [
    "La función random.uniform(a,b) retorna un número de punto flotante aleatorio N en el rango (a,b). El valor b puede o no estar incluido en el rango dependiendo del redondeo de punto flotante de la expresión a + (b-a)*random()."
   ]
  },
  {
   "cell_type": "markdown",
   "metadata": {},
   "source": [
    "### Clase NotSoRandom:"
   ]
  },
  {
   "cell_type": "code",
   "execution_count": 3,
   "metadata": {},
   "outputs": [],
   "source": [
    "class NotSoRandom(object):\n",
    "    def seed(self, a=3):\n",
    "        \"\"\"Seed the world's most mysterious random number generator.\"\"\"\n",
    "        self.seedval = a\n",
    "    def random(self):\n",
    "        \"\"\"Look, random numbers!\"\"\"\n",
    "        self.seedval = (self.seedval * 3) % 19\n",
    "        return self.seedval\n",
    "\n",
    "_inst = NotSoRandom()\n",
    "seed = _inst.seed\n",
    "random = _inst.random\n"
   ]
  },
  {
   "cell_type": "markdown",
   "metadata": {},
   "source": [
    "**Ejercicio 3:**\n",
    "- use la semilla 1234 y genere números aleatorios hasta que se cumpla un ciclo completo. ¿Cuál resultó ser el periodo?\n",
    "- Intente con otra semilla y busque completar un ciclo. "
   ]
  },
  {
   "cell_type": "markdown",
   "metadata": {},
   "source": [
    "### Respuesta"
   ]
  },
  {
   "cell_type": "markdown",
   "metadata": {},
   "source": [
    "#### 3.1)"
   ]
  },
  {
   "cell_type": "markdown",
   "metadata": {},
   "source": [
    "Cálculo del período con semilla = 1234."
   ]
  },
  {
   "cell_type": "code",
   "execution_count": 12,
   "metadata": {},
   "outputs": [
    {
     "name": "stdout",
     "output_type": "stream",
     "text": [
      "Periodo:  18\n"
     ]
    }
   ],
   "source": [
    "seed(1234)\n",
    "periodo = 0\n",
    "cicloCompleto = False\n",
    "a = random()\n",
    "j = 0\n",
    "while(not cicloCompleto):\n",
    "    b = random()\n",
    "    j+=1\n",
    "    if(a == b):\n",
    "        cicloCompleto = True\n",
    "print(\"Periodo: \",j)        "
   ]
  },
  {
   "cell_type": "markdown",
   "metadata": {},
   "source": [
    "#### 3.2)"
   ]
  },
  {
   "cell_type": "markdown",
   "metadata": {},
   "source": [
    "Cálculo del período con semilla = 150."
   ]
  },
  {
   "cell_type": "code",
   "execution_count": 13,
   "metadata": {},
   "outputs": [
    {
     "name": "stdout",
     "output_type": "stream",
     "text": [
      "Periodo:  18\n"
     ]
    }
   ],
   "source": [
    "seed(150)\n",
    "periodo = 0\n",
    "cicloCompleto = False\n",
    "a = random()\n",
    "j = 0\n",
    "while(not cicloCompleto):\n",
    "    b = random()\n",
    "    j+=1\n",
    "    if(a == b):\n",
    "        cicloCompleto = True\n",
    "print(\"Periodo: \",j)   "
   ]
  },
  {
   "cell_type": "markdown",
   "metadata": {},
   "source": [
    "Se observa en ambos casos el período es 18."
   ]
  },
  {
   "cell_type": "markdown",
   "metadata": {},
   "source": [
    "#### **Ejercicio 4:**\n",
    "En este ejercicio vamos a comparar el generador de la biblioteca Random de Python con el generador de números pseudo-aleatorios congruencial lineal descrito en la sesión téórica. Para ello se pide lo siguiente:\n",
    "1. Programe el generador de números pseudo-aleatorios congruencial lineal \n",
    "2. Extraiga secuencias del generador programado y del predefinido en Python, grafique en histogramas, compare y concluya.\n"
   ]
  },
  {
   "cell_type": "markdown",
   "metadata": {},
   "source": [
    "### Respuesta"
   ]
  },
  {
   "cell_type": "markdown",
   "metadata": {},
   "source": [
    "#### 4.1)"
   ]
  },
  {
   "cell_type": "markdown",
   "metadata": {},
   "source": [
    "Programación del generador congruencial lineal."
   ]
  },
  {
   "cell_type": "code",
   "execution_count": 14,
   "metadata": {},
   "outputs": [],
   "source": [
    "class GenCongruencialLineal():\n",
    "    def __init__(self, semilla=10):\n",
    "        self.u = semilla\n",
    "    def random(self):\n",
    "        A = 16807\n",
    "        C = 0\n",
    "        M = 2147483647\n",
    "        self.u = (A*self.u + C)%M\n",
    "        return self.u/M"
   ]
  },
  {
   "cell_type": "markdown",
   "metadata": {},
   "source": [
    "#### 4.2)"
   ]
  },
  {
   "cell_type": "code",
   "execution_count": 178,
   "metadata": {},
   "outputs": [],
   "source": [
    "gen = GenCongruencialLineal(15)\n",
    "random.seed(15)\n",
    "seq1 = []\n",
    "seq2 = []\n",
    "for i in range(10000):\n",
    "    seq1.append(gen.random())\n",
    "    seq2.append(random.random())\n"
   ]
  },
  {
   "cell_type": "code",
   "execution_count": 181,
   "metadata": {},
   "outputs": [
    {
     "data": {
      "text/plain": [
       "(array([ 999.,  994., 1025., 1006.,  981.,  988., 1025., 1036.,  968.,\n",
       "         978.]),\n",
       " array([1.38911419e-05, 1.00012421e-01, 2.00010951e-01, 3.00009481e-01,\n",
       "        4.00008011e-01, 5.00006540e-01, 6.00005070e-01, 7.00003600e-01,\n",
       "        8.00002130e-01, 9.00000660e-01, 9.99999190e-01]),\n",
       " <BarContainer object of 10 artists>)"
      ]
     },
     "execution_count": 181,
     "metadata": {},
     "output_type": "execute_result"
    },
    {
     "data": {
      "image/png": "[encoded data removed]",
      "text/plain": [
       "<Figure size 1296x360 with 2 Axes>"
      ]
     },
     "metadata": {
      "needs_background": "light"
     },
     "output_type": "display_data"
    }
   ],
   "source": [
    "fig, axs = plt.subplots(1,2, figsize=(18,5))\n",
    "axs[0].hist(seq1)"
   ]
  },
  {
   "cell_type": "code",
   "execution_count": 162,
   "metadata": {},
   "outputs": [
    {
     "data": {
      "text/plain": [
       "0.46448019168548293"
      ]
     },
     "execution_count": 162,
     "metadata": {},
     "output_type": "execute_result"
    }
   ],
   "source": [
    "gen.random()"
   ]
  },
  {
   "cell_type": "markdown",
   "metadata": {},
   "source": [
    "#### **Ejercicio 5:**\n",
    "Escoja una distribución de probabilidad continua.\n",
    "1. Utilice un método predefinido en Python para generar una secuencia de valores pseudo-aleatorios provenientes de dicha distribución\n",
    "2. Genere una secuencia considerando el algoritmo de la transformada inversa.\n",
    "3. Grafique en histogramas y compare las secuencias en (1) y (2) utilizando el test de k-s"
   ]
  },
  {
   "cell_type": "markdown",
   "metadata": {},
   "source": [
    "### Respuesta Ejercicio 5"
   ]
  },
  {
   "cell_type": "code",
   "execution_count": 49,
   "metadata": {},
   "outputs": [],
   "source": [
    "# Se generan variables aleatorias con distribución exponencial dada la media\n",
    "# y el número de variables aleatorias\n",
    "\n",
    "def exponential_inverse_trans(n=1, mean=1):\n",
    "    uniform_dist_vals = stats.uniform.rvs(size=n)\n",
    "    X = -mean * np.log(1 - uniform_dist_vals) # transformación inversa\n",
    "    exp_dist_vals = stats.expon.rvs(size=n,scale=mean)\n",
    "    \n",
    "    display(stats.kstest(exp_dist_vals, X))\n",
    "    plt.figure(figsize=(12,9))\n",
    "    plt.hist(X, bins=50, alpha=0.5, label=\"Generada por T.I\")\n",
    "    plt.hist(exp_dist_vals, bins=50, alpha=0.5, label=\"Valores dist. exponencial\")\n",
    "    plt.title(\"Generados por T.I vs dist. exp con %i Variables exponenciales aleatorias \" %n)\n",
    "    plt.legend()\n",
    "    plt.show()\n",
    "    return X\n",
    "\n"
   ]
  },
  {
   "cell_type": "markdown",
   "metadata": {},
   "source": [
    "#### Muestra de 100 elementos"
   ]
  },
  {
   "cell_type": "code",
   "execution_count": 60,
   "metadata": {},
   "outputs": [
    {
     "data": {
      "text/plain": [
       "KstestResult(statistic=0.12, pvalue=0.469506448503778)"
      ]
     },
     "metadata": {},
     "output_type": "display_data"
    },
    {
     "data": {
      "image/png": "[encoded data removed]",
      "text/plain": [
       "<Figure size 864x648 with 1 Axes>"
      ]
     },
     "metadata": {
      "needs_background": "light"
     },
     "output_type": "display_data"
    }
   ],
   "source": [
    "test_example1=exponential_inverse_trans(n=100,mean=10)"
   ]
  },
  {
   "cell_type": "markdown",
   "metadata": {},
   "source": [
    "#### Muestra de 500 elementos"
   ]
  },
  {
   "cell_type": "code",
   "execution_count": 61,
   "metadata": {},
   "outputs": [
    {
     "data": {
      "text/plain": [
       "KstestResult(statistic=0.054, pvalue=0.4599232291065006)"
      ]
     },
     "metadata": {},
     "output_type": "display_data"
    },
    {
     "data": {
      "image/png": "[encoded data removed]",
      "text/plain": [
       "<Figure size 864x648 with 1 Axes>"
      ]
     },
     "metadata": {
      "needs_background": "light"
     },
     "output_type": "display_data"
    }
   ],
   "source": [
    "test_example2=exponential_inverse_trans(n=500,mean=10)"
   ]
  },
  {
   "cell_type": "markdown",
   "metadata": {},
   "source": [
    "#### Muestra de 1000 elementos"
   ]
  },
  {
   "cell_type": "code",
   "execution_count": 62,
   "metadata": {},
   "outputs": [
    {
     "data": {
      "text/plain": [
       "KstestResult(statistic=0.035, pvalue=0.5728904395829821)"
      ]
     },
     "metadata": {},
     "output_type": "display_data"
    },
    {
     "data": {
      "image/png": "[encoded data removed]",
      "text/plain": [
       "<Figure size 864x648 with 1 Axes>"
      ]
     },
     "metadata": {
      "needs_background": "light"
     },
     "output_type": "display_data"
    }
   ],
   "source": [
    "test_example3=exponential_inverse_trans(n=1000,mean=10)"
   ]
  },
  {
   "cell_type": "markdown",
   "metadata": {},
   "source": [
    "#### Muestra de 10000 elementos"
   ]
  },
  {
   "cell_type": "code",
   "execution_count": 63,
   "metadata": {},
   "outputs": [
    {
     "data": {
      "text/plain": [
       "KstestResult(statistic=0.0136, pvalue=0.31338762324335184)"
      ]
     },
     "metadata": {},
     "output_type": "display_data"
    },
    {
     "data": {
      "image/png": "[encoded data removed]",
      "text/plain": [
       "<Figure size 864x648 with 1 Axes>"
      ]
     },
     "metadata": {
      "needs_background": "light"
     },
     "output_type": "display_data"
    }
   ],
   "source": [
    "test_example4=exponential_inverse_trans(n=10000,mean=10)"
   ]
  },
  {
   "cell_type": "markdown",
   "metadata": {},
   "source": [
    "#### Muestra de 100000 elementos"
   ]
  },
  {
   "cell_type": "code",
   "execution_count": 65,
   "metadata": {},
   "outputs": [
    {
     "data": {
      "text/plain": [
       "KstestResult(statistic=0.006059999999999954, pvalue=0.05062636858686387)"
      ]
     },
     "metadata": {},
     "output_type": "display_data"
    },
    {
     "data": {
      "image/png": "[encoded data removed]",
      "text/plain": [
       "<Figure size 864x648 with 1 Axes>"
      ]
     },
     "metadata": {
      "needs_background": "light"
     },
     "output_type": "display_data"
    }
   ],
   "source": [
    "test_example5=exponential_inverse_trans(n=100000,mean=10)"
   ]
  },
  {
   "cell_type": "markdown",
   "metadata": {},
   "source": [
    "Mediante una serie de pruebas obtenidas de la comparación de valores uniformes mapeados por la **transformación inversa** de la distribución exponencial frente a valores aleatorios de la distribución antes mencionada, generados por una función predefinida de Python (de la librería scipy.stats), podemos observar que a medida que el tamaño de la muestra es mayor, los valores mapeados por la transformación inversa se ajustan de mejor forma a la distribución exponencial, coincidiendo con los resultados teóricos analizados en clase."
   ]
  },
  {
   "cell_type": "markdown",
   "metadata": {},
   "source": [
    "#### **Ejercicio 6:**\n",
    "Escoja una distribución de probabilidad discreta.\n",
    "1. Utilice un método predefinido en Python para generar una secuencia de valores pseudo-aleatorios provenientes de dicha distribución\n",
    "2. Genere una secuencia considerando el algoritmo de la transformada inversa.\n",
    "3. Grafique en histogramas y compare las secuencias en (1) y (2). ¿Qué test sería adecuado utilizar en este caso?"
   ]
  },
  {
   "cell_type": "markdown",
   "metadata": {},
   "source": [
    "### Respuesta"
   ]
  },
  {
   "cell_type": "code",
   "execution_count": null,
   "metadata": {},
   "outputs": [],
   "source": [
    "seq = []\n",
    "for i in range(1000):\n",
    "    seq.append(random.normalvariate(10,12))"
   ]
  },
  {
   "cell_type": "markdown",
   "metadata": {},
   "source": [
    "**Referencias:**\n",
    "    \n",
    "- Generating Random Data in Python (Guide): https://realpython.com/python-random/\n",
    "\n",
    "- Generación de números pseudo-aleatorios: https://www.youtube.com/watch?v=C82JyCmtKWg"
   ]
  },
  {
   "cell_type": "code",
   "execution_count": null,
   "metadata": {},
   "outputs": [],
   "source": []
  }
 ],
 "metadata": {
  "kernelspec": {
   "display_name": "Python 3 (ipykernel)",
   "language": "python",
   "name": "python3"
  },
  "language_info": {
   "codemirror_mode": {
    "name": "ipython",
    "version": 3
   },
   "file_extension": ".py",
   "mimetype": "text/x-python",
   "name": "python",
   "nbconvert_exporter": "python",
   "pygments_lexer": "ipython3",
   "version": "3.8.10"
  }
 },
 "nbformat": 4,
 "nbformat_minor": 2
}
