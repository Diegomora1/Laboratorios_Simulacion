{
 "cells": [
  {
   "cell_type": "markdown",
   "metadata": {},
   "source": [
    "# Laboratorio 2\n",
    "### Entrega: martes 31 de agosto 2021, 23:59 horas\n"
   ]
  },
  {
   "cell_type": "markdown",
   "metadata": {},
   "source": [
    "### Integrantes: \n",
    "- Francisco Levin\n",
    "- Diego Mora"
   ]
  },
  {
   "cell_type": "markdown",
   "metadata": {},
   "source": [
    "## Algunas Variables Aleatorias Especiales\n",
    "En este laboratorio revisaremos algunos tipos de variables aleatorias especiales, definidas por que tienen  distribuciones de probabilidad conocidas. Trabajaremos tanto con v.a. discretas como continuas, y calcularemos y graficaremos las probabilidades teóricas (probabilidaes puntutales, funciones de  densidad y de distribución de probabilidad) y luego las vamos a comparar con datos obtenidos por simulación."
   ]
  },
  {
   "cell_type": "markdown",
   "metadata": {},
   "source": [
    "### Estadísticos asociados\n",
    "1. Posición:  tendencia central y no central\n",
    "   percentiles, media, moda\n",
    "\n",
    "2. Dispersión: \n",
    "    Varianza, desviación estándar\n",
    "\n",
    "3. Forma: \n",
    "    asimetría, curtosis. \n",
    "    \n",
    "   $$\\text{ Asimetría (skewness) }= \\frac{E[(X-\\mu)^3]}{\\sigma^3}$$\n",
    "   $$\\text{ Curtosis }= \\frac{E[(X-\\mu)^4]}{\\sigma^4} - 3$$"
   ]
  },
  {
   "cell_type": "code",
   "execution_count": 1,
   "metadata": {},
   "outputs": [],
   "source": [
    "# Pandas and numpy for data manipulation\n",
    "import pandas as pd\n",
    "import numpy as np\n",
    "import scipy.stats as stats\n",
    "import math\n",
    "\n",
    "# Matplotlib and seaborn for plotting\n",
    "import matplotlib.pyplot as plt\n",
    "import matplotlib\n",
    "%matplotlib inline\n",
    "\n",
    "matplotlib.rcParams['font.size'] = 18\n",
    "matplotlib.rcParams['figure.dpi'] = 200\n",
    "\n",
    "from IPython.core.pylabtools import figsize\n"
   ]
  },
  {
   "cell_type": "markdown",
   "metadata": {},
   "source": [
    "#### Distribución Bernoulli\n",
    "Suponga que se realiza un ensayo cuya salida es \"éxito\" o \"falla\". La v.a. entonces tiene sólo dos valores posibles: 1 si \"éxito\" 0 si no. Si $p$ es la probabilidad de éxito, entonces:\n",
    "\n",
    "$\\begin{equation}\n",
    "\\begin{array}{lll} \n",
    "P(X=1) & = &p \\qquad y \\qquad P(X=0) = 1-p \\\\\n",
    "P(X = i) & = & p^i (1-p)^{1-i} \\,, i=0,1\\\\\n",
    "E[X] & = & 1*p + 0*p = p\\\\\n",
    "E[X^2] & = & 1*p + 0*p = p\\\\\n",
    "Var(X) & = & E[X^2] - (E[X])^2 = p - p^2 = p(1-p)\\\\\n",
    "\\end{array}\n",
    "\\end{equation}$\n"
   ]
  },
  {
   "cell_type": "markdown",
   "metadata": {},
   "source": [
    "#### Distribución Binomial\n",
    "Suponga que se realizan $N$  ensayos independientes idénticos  Bernoulli  de parámetro $p$. La v.a. X que representa el número $k$ de ensayos existosos entre los $N$ ensayos realizados, se denomina Binomial y cumple:\n",
    "\n",
    "$\\begin{equation}\n",
    "\\begin{array}{lll} \n",
    "P(X=k) & = & {N \\choose k} p^k (1-p)^{N-k}, \\qquad k=0,1,...N \\\\\n",
    "E[X] & = & Np\\\\\n",
    "Var(X) & = & Np(1-p)\\\\\n",
    "Simetria(X) & = & \\frac{1-2p}{\\sqrt{np(1-p)}}\\\\\n",
    "Curtosis(X) & = & \\frac{1-6p(1-p)}{np(1-p)}\\\\\n",
    "\\end{array}\n",
    "\\end{equation}$"
   ]
  },
  {
   "cell_type": "markdown",
   "metadata": {},
   "source": [
    "### Simulación Variable Aleatoria con Distribución Binomial\n",
    "En esta sección utilizaremos la función generadora de valores aleatorios para la distribución binomial, y se compara la distribución empírica con la distribución teórica"
   ]
  },
  {
   "cell_type": "code",
   "execution_count": 18,
   "metadata": {
    "scrolled": true
   },
   "outputs": [
    {
     "data": {
      "image/png": "[encoded data removed]",
      "text/plain": [
       "<Figure size 480x320 with 2 Axes>"
      ]
     },
     "metadata": {
      "needs_background": "light"
     },
     "output_type": "display_data"
    }
   ],
   "source": [
    "## simulación de size valores v.a. binomial\n",
    "size=100\n",
    "n=50\n",
    "p=0.2\n",
    "datos_bin =stats.binom.rvs(n=n, p=p, size=size) \n",
    "binwidth = 4\n",
    "fig, ax = plt.subplots(1, 1, figsize=(6, 4), dpi=80)\n",
    "ax.hist(datos_bin, color = 'blue', edgecolor = 'black', bins = int(50/binwidth))\n",
    "## probabilidad teórica\n",
    "ax2 = ax.twinx()\n",
    "vec = list(range(n+1))\n",
    "##\n",
    "pvec = []\n",
    "for i in vec:\n",
    "    pvec.append(stats.binom.pmf(k=i, n=n, p=p))\n",
    "ax2.plot(vec,pvec)\n",
    "plt.draw()\n"
   ]
  },
  {
   "cell_type": "code",
   "execution_count": 19,
   "metadata": {},
   "outputs": [
    {
     "data": {
      "image/png": "[encoded data removed]",
      "text/plain": [
       "<Figure size 480x320 with 2 Axes>"
      ]
     },
     "metadata": {
      "needs_background": "light"
     },
     "output_type": "display_data"
    }
   ],
   "source": [
    "## gráfica de la distribución empírica acumulada\n",
    "def ecdf(data):\n",
    "    \"\"\" Calcula la distribución empírica acumulada\"\"\"\n",
    "    x = np.sort(data)\n",
    "    n = x.size\n",
    "    y = np.arange(1, n+1) / n\n",
    "    return(x,y)\n",
    "\n",
    "fig, ax = plt.subplots(1, 1,figsize=(6, 4), dpi=80)\n",
    "\n",
    "x,cum_bin = ecdf(datos_bin)\n",
    "ax.bar(x,cum_bin)\n",
    "## probabilidad teórica\n",
    "ax2 = ax.twinx()\n",
    "vec = list(range(51))\n",
    "##\n",
    "pvec = []\n",
    "for i in vec:\n",
    "    pvec.append(stats.binom.cdf(k=i, n=n, p=p))\n",
    "ax2.plot(vec,pvec)\n",
    "plt.draw()\n"
   ]
  },
  {
   "cell_type": "code",
   "execution_count": 5,
   "metadata": {},
   "outputs": [
    {
     "name": "stdout",
     "output_type": "stream",
     "text": [
      "esperanza empírica: 9.63  teórica:  10.0\n",
      "varianza empírica: 7.993099999999993  teórica:  8.0\n",
      "asimetría empírica: 0.18200579098529232 teórica:  0.21213203435596423\n",
      "curtosis empírico:  0.22983401676645965 teórico:  0.004999999999999977\n"
     ]
    }
   ],
   "source": [
    "## Cálculo de esperanza y varianza empírica y teórica\n",
    "promedio = sum(datos_bin)/size\n",
    "var_emp = sum((datos_bin - promedio)*(datos_bin-promedio))/size\n",
    "asim = stats.skew(datos_bin)\n",
    "curtos = stats.kurtosis(datos_bin)\n",
    "print('esperanza empírica:',promedio,' teórica: ',n*p)\n",
    "print('varianza empírica:',var_emp,' teórica: ', n*p*(1-p))\n",
    "print('asimetría empírica:', asim, 'teórica: ',(1-2*p)/(math.sqrt(n*p*(1-p))))\n",
    "print('curtosis empírico: ', curtos, 'teórico: ',(1-6*p*(1-p))/(n*p*(1-p)))"
   ]
  },
  {
   "cell_type": "markdown",
   "metadata": {},
   "source": [
    "#### Ejercicio 1: \n",
    "1) ¿Cuántas simulaciones es necesario hacer para acercarse a los valores teóricos?\n",
    "\n",
    "2) Cambie los valores de los parámetros y analice si hay cambios en su respuesta en (1)"
   ]
  },
  {
   "cell_type": "markdown",
   "metadata": {},
   "source": [
    "#### Ejercicio 2: \n",
    "Realice un desarrollo similar al caso de la Distribución Binomial para el caso de una variable aleatoria con Distribución de Probabilidad Poisson"
   ]
  },
  {
   "cell_type": "markdown",
   "metadata": {},
   "source": [
    "#### Distribución Normal o Gaussiana\n",
    "Sea $X$ v.a. continua, es normal de media $\\mu$ y varianza $\\sigma^2$ y se denota $\\cal{N}(\\mu,\\sigma^2)$ si su densidad de probabilidad cumple:\n",
    "\n",
    "\n",
    "$\\begin{equation}\n",
    "\\begin{array}{lll} \n",
    "f_X(x) & = & \\frac{1}{\\sqrt{2\\pi}\\sigma} exp(\\frac{-(x-\\mu)^2}{2\\sigma^2})\\qquad, -\\infty < x <\\infty\\\\\n",
    "E[X] &= &\\mu\\\\\n",
    "Var(X)& =& \\sigma^2\\\\\n",
    "\\end{array}\n",
    "\\end{equation}$\n",
    "\n",
    "Esta es la distribución de probabilidad mas utilizada. Muchas variables se distribuyen aproximadamente normales (altura, peso, satisfacción en el trabajo, etc.). \n",
    "\n",
    "Permite modelar los errores o ruidos.\n",
    "\n",
    "¿Cómo se verifica que una v.a. sigue una distribución normal?\n",
    "\n",
    "Test de normalidad de Shapiro-Wilk, Q-Q plot\n"
   ]
  },
  {
   "cell_type": "markdown",
   "metadata": {},
   "source": [
    "### Simulación Variable Aleatoria con Distribución Normal\n",
    "En esta sección utilizaremos la función generadora de valores aleatorios para la distribución normal, y se compara la distribución empírica con la distribución teórica"
   ]
  },
  {
   "cell_type": "code",
   "execution_count": 15,
   "metadata": {},
   "outputs": [
    {
     "data": {
      "image/png": "[encoded data removed]",
      "text/plain": [
       "<Figure size 480x320 with 2 Axes>"
      ]
     },
     "metadata": {
      "needs_background": "light"
     },
     "output_type": "display_data"
    }
   ],
   "source": [
    "## simulación de size valores v.a. normal\n",
    "size=100\n",
    "mu=50\n",
    "sigma=10\n",
    "datos_norm =stats.norm.rvs(loc=mu, scale= sigma, size=size) \n",
    "binwidth = 4\n",
    "fig, ax = plt.subplots(1, 1,figsize=(6, 4), dpi=80)\n",
    "ax.hist(datos_norm, color = 'blue', edgecolor = 'black', bins = int(2*mu/binwidth))\n",
    "## probabilidad teórica\n",
    "ax2 = ax.twinx()\n",
    "vec = list(range(2*mu+1))\n",
    "##\n",
    "pvec = []\n",
    "for i in vec:\n",
    "    pvec.append(stats.norm.pdf(x=i, loc=mu, scale= sigma))\n",
    "ax2.plot(vec,pvec)\n",
    "plt.draw()\n"
   ]
  },
  {
   "cell_type": "code",
   "execution_count": 16,
   "metadata": {},
   "outputs": [
    {
     "data": {
      "image/png": "[encoded data removed]",
      "text/plain": [
       "<Figure size 480x320 with 2 Axes>"
      ]
     },
     "metadata": {
      "needs_background": "light"
     },
     "output_type": "display_data"
    }
   ],
   "source": [
    "## gráfica de la distribución empírica acumulada\n",
    "def ecdf(data):\n",
    "    \"\"\" Calcula la distribución empírica acumulada\"\"\"\n",
    "    x = np.sort(data)\n",
    "    n = x.size\n",
    "    y = np.arange(1, n+1) / n\n",
    "    return(x,y)\n",
    "\n",
    "fig, ax = plt.subplots(1, 1,figsize=(6, 4), dpi=80)\n",
    "\n",
    "x,cum_norm = ecdf(datos_norm)\n",
    "ax.bar(x,cum_norm)\n",
    "## probabilidad teórica\n",
    "ax2 = ax.twinx()\n",
    "vec = list(range(2*mu+1))\n",
    "##\n",
    "pvec = []\n",
    "for i in vec:\n",
    "    pvec.append(stats.norm.cdf(x=i, loc=mu, scale=sigma))\n",
    "ax2.plot(vec,pvec)\n",
    "plt.draw()\n"
   ]
  },
  {
   "cell_type": "code",
   "execution_count": 17,
   "metadata": {},
   "outputs": [
    {
     "name": "stdout",
     "output_type": "stream",
     "text": [
      "esperanza empírica: 48.282490897599146  teórica:  50\n",
      "varianza empírica: 76.95342819520188  teórica:  100\n",
      "asimetría empírica: -0.10493069937047318 teórica:  0\n",
      "curtosis empírico:  -0.33654226611189175 teórico:  0\n"
     ]
    }
   ],
   "source": [
    "## Cálculo de esperanza y varianza empírica y teórica\n",
    "promedio = sum(datos_norm)/size\n",
    "var_emp = sum((datos_norm - promedio)*(datos_norm-promedio))/size\n",
    "asim = stats.skew(datos_norm)\n",
    "curtos = stats.kurtosis(datos_norm)\n",
    "print('esperanza empírica:',promedio,' teórica: ',mu)\n",
    "print('varianza empírica:',var_emp,' teórica: ', sigma*sigma)\n",
    "print('asimetría empírica:', asim, 'teórica: ',0)\n",
    "print('curtosis empírico: ', curtos, 'teórico: ',0)\n"
   ]
  },
  {
   "cell_type": "markdown",
   "metadata": {},
   "source": [
    "#### Ejercicio 3: \n",
    "1) ¿Cuántas simulaciones es necesario hacer para acercarse a los valores teóricos?\n",
    "\n",
    "2) Cambie los valores de los parámetros y analice si hay cambios en su respuesta en (1)"
   ]
  },
  {
   "cell_type": "markdown",
   "metadata": {},
   "source": [
    "#### Ejercicio 4: \n",
    "Realice un desarrollo similar para el caso de una variable aleatoria continua distribuída chi-cuadrado de $k$ grados de libertad"
   ]
  },
  {
   "cell_type": "markdown",
   "metadata": {},
   "source": [
    "#### Ejercicio 5 (2 puntos):\n",
    "Utilice datos de sismicidad del Centro de Sismológico Nacional (http://evtdb.csn.uchile.cl/events), escoja dos  regiones geográficas en Chile (y la región del océano Pacífico contigua), con dimensiones de al menos 5 grados, tanto en longitud como latitud y grafique los histogramas de magnitud y profundidad de los eventos sísmicos significativos disponibles. Calcule parámetros empíricos para cada serie de datos.  Compare y concluya."
   ]
  },
  {
   "cell_type": "markdown",
   "metadata": {},
   "source": [
    "### Referencias\n",
    "\n",
    "https://github.com/WillKoehrsen/Data-Analysis/blob/master/univariate_dist/Histogram%20and%20Density%20Plot.ipynb\n"
   ]
  }
 ],
 "metadata": {
  "kernelspec": {
   "display_name": "Python 3",
   "language": "python",
   "name": "python3"
  },
  "language_info": {
   "codemirror_mode": {
    "name": "ipython",
    "version": 3
   },
   "file_extension": ".py",
   "mimetype": "text/x-python",
   "name": "python",
   "nbconvert_exporter": "python",
   "pygments_lexer": "ipython3",
   "version": "3.8.10"
  }
 },
 "nbformat": 4,
 "nbformat_minor": 2
}
